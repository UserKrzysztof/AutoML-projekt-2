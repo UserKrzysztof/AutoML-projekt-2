{
 "cells": [
  {
   "cell_type": "markdown",
   "id": "initial_id",
   "metadata": {
    "collapsed": true
   },
   "source": [
    "Otwierany folder: AutoML-projekt-2"
   ]
  },
  {
   "cell_type": "code",
   "execution_count": 1,
   "id": "1ccd74ed",
   "metadata": {},
   "outputs": [
    {
     "name": "stderr",
     "output_type": "stream",
     "text": [
      "c:\\Users\\macie\\anaconda3\\envs\\amlpro2\\lib\\site-packages\\tqdm\\auto.py:21: TqdmWarning: IProgress not found. Please update jupyter and ipywidgets. See https://ipywidgets.readthedocs.io/en/stable/user_install.html\n",
      "  from .autonotebook import tqdm as notebook_tqdm\n"
     ]
    }
   ],
   "source": [
    "import sys\n",
    "import os\n",
    "\n",
    "project_path = os.path.abspath('..')\n",
    "sys.path.append(project_path)\n",
    "\n",
    "from autopocket.main import AutoPocketor\n"
   ]
  },
  {
   "cell_type": "code",
   "execution_count": 2,
   "id": "ffc6409e",
   "metadata": {},
   "outputs": [
    {
     "name": "stdout",
     "output_type": "stream",
     "text": [
      "['c:\\\\Users\\\\macie\\\\anaconda3\\\\envs\\\\amlpro2\\\\python310.zip', 'c:\\\\Users\\\\macie\\\\anaconda3\\\\envs\\\\amlpro2\\\\DLLs', 'c:\\\\Users\\\\macie\\\\anaconda3\\\\envs\\\\amlpro2\\\\lib', 'c:\\\\Users\\\\macie\\\\anaconda3\\\\envs\\\\amlpro2', '', 'c:\\\\Users\\\\macie\\\\anaconda3\\\\envs\\\\amlpro2\\\\lib\\\\site-packages', 'c:\\\\Users\\\\macie\\\\anaconda3\\\\envs\\\\amlpro2\\\\lib\\\\site-packages\\\\win32', 'c:\\\\Users\\\\macie\\\\anaconda3\\\\envs\\\\amlpro2\\\\lib\\\\site-packages\\\\win32\\\\lib', 'c:\\\\Users\\\\macie\\\\anaconda3\\\\envs\\\\amlpro2\\\\lib\\\\site-packages\\\\Pythonwin', 'c:\\\\Users\\\\macie\\\\anaconda3\\\\envs\\\\amlpro2\\\\lib\\\\site-packages\\\\setuptools\\\\_vendor', 'c:\\\\Users\\\\macie\\\\OneDrive - Politechnika Warszawska\\\\Pulpit\\\\STUDIA\\\\SEMESTR5\\\\AutoML\\\\Projekty\\\\AutoML-projekt-2']\n"
     ]
    }
   ],
   "source": [
    "print(sys.path)"
   ]
  },
  {
   "cell_type": "code",
   "execution_count": 3,
   "id": "a537286b",
   "metadata": {},
   "outputs": [
    {
     "name": "stdout",
     "output_type": "stream",
     "text": [
      "Zawartość katalogu 'example/data/': ['car_insurance.csv', 'walmart.csv']\n"
     ]
    }
   ],
   "source": [
    "directory = 'data/' \n",
    "print(\"Zawartość katalogu 'example/data/':\", os.listdir(directory))"
   ]
  },
  {
   "cell_type": "code",
   "execution_count": 4,
   "id": "70e5fa54",
   "metadata": {},
   "outputs": [
    {
     "name": "stdout",
     "output_type": "stream",
     "text": [
      "Preprocessing done\n",
      "Best score (GINI): 0.0927687819110139\n",
      "Modelling done\n",
      "DecisionTreeClassifier\n",
      "X_test_lim: (1000, 209)\n",
      "shap_values: (1000, 209, 2)\n",
      "shap_values type: <class 'numpy.ndarray'>\n",
      "shap_values shape: (1000, 209, 2)\n",
      "<class 'str'>\n",
      "PDF saved successfully.\n"
     ]
    }
   ],
   "source": [
    "AutoPocketor().doJob(\"data/car_insurance.csv\", \"is_claim\", \".\")"
   ]
  }
 ],
 "metadata": {
  "kernelspec": {
   "display_name": "amlpro2",
   "language": "python",
   "name": "python3"
  },
  "language_info": {
   "codemirror_mode": {
    "name": "ipython",
    "version": 3
   },
   "file_extension": ".py",
   "mimetype": "text/x-python",
   "name": "python",
   "nbconvert_exporter": "python",
   "pygments_lexer": "ipython3",
   "version": "3.10.16"
  }
 },
 "nbformat": 4,
 "nbformat_minor": 5
}
